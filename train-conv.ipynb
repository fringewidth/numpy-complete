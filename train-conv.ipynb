{
 "cells": [
  {
   "cell_type": "code",
   "execution_count": 1,
   "metadata": {},
   "outputs": [],
   "source": [
    "import numpy as np\n",
    "from scipy import signal"
   ]
  },
  {
   "cell_type": "code",
   "execution_count": null,
   "metadata": {},
   "outputs": [],
   "source": [
    "class ConvLayer:\n",
    "    def __init__(self, n_kernels, input_shape, kernel_size):\n",
    "        self.in_channels = input_shape[0]\n",
    "        self.out_channels = n_kernels\n",
    "        self.input_shape = input_shape\n",
    "        self.kernel_size = kernel_size\n",
    "        self.output_shape = (self.out_channels, input_shape[1] - kernel_size + 1, input_shape[2] - kernel_size + 1)\n",
    "\n",
    "        if kernel_size > input_shape[1] or kernel_size > input_shape[2]:\n",
    "            raise ValueError(\"Kernel too big for input size\")\n",
    "        \n",
    "        self.kernels = np.random.randn(self.out_channels, self.in_channels, self.kernel_size, self.kernel_size)\n",
    "        self.biases = np.random.randn(self.out_channels)\n",
    "\n",
    "    def forward(self, input):\n",
    "        if input.shape != self.input_shape:\n",
    "            raise ValueError(f\"Input needs to be of shape {self.input_shape}\")\n",
    "        \n",
    "        output = np.zeros(self.output_shape)\n",
    "        \n",
    "        for i in range(self.out_channels):\n",
    "            for j in range(self.in_channels):\n",
    "                output[i] += signal.correlate2d(input[j], self.kernels[i][j], mode='valid')\n",
    "            output[i] += self.biases[i]\n",
    "        \n",
    "        return output\n",
    "    \n",
    "    def backward(self, output_grad, lr):\n",
    "        kernel_grad = np.zeros(self.kernel_size, self.kernel_size)\n",
    "        input_grad = np.zeros(self.input_shape)\n",
    "\n",
    "        for i in range(self.out_channels):\n",
    "            for j in range(self.in_channels):\n",
    "                kernel_grad[i, j] = signal.correlate2d(output_grad[i], input[j], mode='valid')\n",
    "                input_grad[j] += signal.convolve2d(output_grad[i], self.kernels[i][j], mode='full')\n",
    "        \n",
    "        self.kernels -= lr * kernel_grad\n",
    "        self.biases -= lr * output_grad\n",
    "\n",
    "        return input_grad"
   ]
  },
  {
   "cell_type": "code",
   "execution_count": null,
   "metadata": {},
   "outputs": [],
   "source": [
    "class DenseLayer:\n",
    "    def __init__(self, input_dim, output_dim):\n",
    "        self.weights = np.random.randn(input_dim, output_dim)\n",
    "        self.biases = np.zeros(output_dim)\n",
    "\n",
    "    def forward(self, input):\n",
    "        self.input = input\n",
    "        return np.dot(input, self.weights) + self.biases\n",
    "    \n",
    "    def backward(self, output_grad, lr):\n",
    "        input_grad = np.dot(output_grad, self.weights.T)\n",
    "\n",
    "        weights_grad = np.dot(self.input.T, output_grad)\n",
    "\n",
    "\n",
    "        self.weights -= lr * weights_grad\n",
    "        self.biases -= lr * output_grad\n",
    "\n",
    "        return input_grad"
   ]
  },
  {
   "cell_type": "code",
   "execution_count": null,
   "metadata": {},
   "outputs": [],
   "source": [
    "class ReLU:\n",
    "    def forward(self, input):\n",
    "        self.input = input\n",
    "        return np.maximum(input, 0)\n",
    "    \n",
    "    def backward(self, output_grad):\n",
    "        return self.input * (output_grad > 0)"
   ]
  }
 ],
 "metadata": {
  "kernelspec": {
   "display_name": "Python 3",
   "language": "python",
   "name": "python3"
  },
  "language_info": {
   "codemirror_mode": {
    "name": "ipython",
    "version": 3
   },
   "file_extension": ".py",
   "mimetype": "text/x-python",
   "name": "python",
   "nbconvert_exporter": "python",
   "pygments_lexer": "ipython3",
   "version": "3.10.8"
  }
 },
 "nbformat": 4,
 "nbformat_minor": 2
}
