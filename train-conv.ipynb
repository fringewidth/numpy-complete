{
 "cells": [
  {
   "cell_type": "code",
   "execution_count": 1,
   "metadata": {},
   "outputs": [],
   "source": [
    "import numpy as np\n",
    "from scipy import signal"
   ]
  },
  {
   "cell_type": "code",
   "execution_count": null,
   "metadata": {},
   "outputs": [],
   "source": [
    "class ConvLayer:\n",
    "    def __init__(self, n_kernels, input_shape, kernel_size):\n",
    "        self.in_channels = input_shape[0]\n",
    "        self.out_channels = n_kernels\n",
    "        self.input_shape = input_shape\n",
    "        self.kernel_size = kernel_size\n",
    "        self.output_shape = (self.out_channels, input_shape[1] - kernel_size + 1, input_shape[2] - kernel_size + 1)\n",
    "\n",
    "        if kernel_size > input_shape[1] or kernel_size > input_shape[2]:\n",
    "            raise ValueError(\"Kernel too big for input size\")\n",
    "        \n",
    "        self.kernels = np.random.randn(self.out_channels, self.in_channels, self.kernel_size, self.kernel_size)\n",
    "        self.biases = np.random.randn(self.out_channels)\n",
    "\n",
    "    def forward(self, input):\n",
    "        if input.shape != self.input_shape:\n",
    "            raise ValueError(f\"Input needs to be of shape {self.input_shape}\")\n",
    "        \n",
    "        output = np.zeros(self.output_shape)\n",
    "        \n",
    "        for i in range(self.out_channels):\n",
    "            for j in range(self.in_channels):\n",
    "                output[i] += signal.correlate2d(input[j], self.kernels[i][j], mode='valid')\n",
    "            output[i] += self.biases[i]\n",
    "        \n",
    "        return output\n",
    "    \n",
    "    def backward(self, d_out, lr):\n",
    "        pass\n"
   ]
  }
 ],
 "metadata": {
  "kernelspec": {
   "display_name": "Python 3",
   "language": "python",
   "name": "python3"
  },
  "language_info": {
   "codemirror_mode": {
    "name": "ipython",
    "version": 3
   },
   "file_extension": ".py",
   "mimetype": "text/x-python",
   "name": "python",
   "nbconvert_exporter": "python",
   "pygments_lexer": "ipython3",
   "version": "3.10.8"
  }
 },
 "nbformat": 4,
 "nbformat_minor": 2
}
