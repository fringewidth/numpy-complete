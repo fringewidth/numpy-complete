{
 "cells": [
  {
   "attachments": {},
   "cell_type": "markdown",
   "metadata": {},
   "source": [
    "# Neural Network Specifics:\n",
    "- We're defining a feed-forawrd NN with four layers (input layer, two hidden layers, and output layer).\n",
    "- Input layer is each of the 784 grayscale values\n",
    "- The hidden layers will have sixteen neurons each.\n",
    "- Activation functions of hidden layer neurons will be the ReLU\n",
    "- There will be 10 output layer neurons, representing the computed probability of the digit the input image represents.\n",
    "- Activation functions of the output layer will be softmax\n",
    "- We'll use cross entropy as the loss function"
   ]
  },
  {
   "attachments": {},
   "cell_type": "markdown",
   "metadata": {},
   "source": [
    "Import packages"
   ]
  },
  {
   "cell_type": "code",
   "execution_count": 119,
   "metadata": {},
   "outputs": [],
   "source": [
    "import numpy as np\n",
    "import pandas as pd\n",
    "import matplotlib.pyplot as plt"
   ]
  },
  {
   "attachments": {},
   "cell_type": "markdown",
   "metadata": {},
   "source": [
    "Load Dataset"
   ]
  },
  {
   "cell_type": "code",
   "execution_count": 136,
   "metadata": {},
   "outputs": [],
   "source": [
    "dataset_train = pd.read_csv(\"mnist_train.csv\").to_numpy()\n",
    "dataset_test = pd.read_csv(\"mnist_test.csv\").to_numpy()"
   ]
  },
  {
   "attachments": {},
   "cell_type": "markdown",
   "metadata": {},
   "source": [
    "Initialise weight matrices and bias vectors using random normal distrubution"
   ]
  },
  {
   "cell_type": "code",
   "execution_count": 121,
   "metadata": {},
   "outputs": [],
   "source": [
    "class Layer:\n",
    "    z=0\n",
    "    a=0\n",
    "    def __init__(self, dimensions):\n",
    "        self.weights=np.random.normal(loc=0,scale=0.01,size=dimensions)\n",
    "        self.biases=np.random.normal(loc=0, scale=0.01, size=dimensions[1])\n",
    "\n",
    "#Layer 1\n",
    "l1=Layer((784,16))\n",
    "\n",
    "#Layer 2\n",
    "l2=Layer((16,16))\n",
    "\n",
    "#Layer 3\n",
    "l3=Layer((16,10))"
   ]
  },
  {
   "attachments": {},
   "cell_type": "markdown",
   "metadata": {},
   "source": [
    "Define Activation functions"
   ]
  },
  {
   "cell_type": "code",
   "execution_count": 122,
   "metadata": {},
   "outputs": [],
   "source": [
    "def ReLU(x):\n",
    "    return np.maximum(x,0)\n",
    "\n",
    "def softmax(x):\n",
    "    m=np.max(x)\n",
    "    return np.exp(x-m)/np.exp(x-m).sum()"
   ]
  },
  {
   "attachments": {},
   "cell_type": "markdown",
   "metadata": {},
   "source": [
    "Implement Forward Propagation"
   ]
  },
  {
   "cell_type": "code",
   "execution_count": 123,
   "metadata": {},
   "outputs": [],
   "source": [
    "def forward_prop(training_data):\n",
    "    l1.z=np.dot(training_data[1:],l1.weights)+l1.biases\n",
    "    l1.a=ReLU(l1.z)\n",
    "\n",
    "    l2.z=np.dot(l1.z, l2.weights)+l2.biases\n",
    "    l2.a=ReLU(l2.z)\n",
    "\n",
    "    l3.z=np.dot(l2.z, l3.weights)+l3.biases\n",
    "    l3.a=softmax(l3.z)\n",
    "    return l1, l2, l3"
   ]
  },
  {
   "attachments": {},
   "cell_type": "markdown",
   "metadata": {},
   "source": [
    "One-hot encoding"
   ]
  },
  {
   "cell_type": "code",
   "execution_count": 124,
   "metadata": {},
   "outputs": [],
   "source": [
    "def one_hot(training_data):\n",
    "    y=np.zeros(10)\n",
    "    index=training_data[0]\n",
    "    y[index]=1\n",
    "    return y"
   ]
  },
  {
   "attachments": {},
   "cell_type": "markdown",
   "metadata": {},
   "source": [
    "Implement cross-entropy loss\n"
   ]
  },
  {
   "cell_type": "code",
   "execution_count": 125,
   "metadata": {},
   "outputs": [],
   "source": [
    "def ce_loss(training_data, predictions):\n",
    "    epsilon = 1e-10\n",
    "    predictions = np.clip(predictions, epsilon, 1 - epsilon)\n",
    "    y=one_hot(training_data)\n",
    "    ce= -np.mean(np.log(predictions)*y)\n",
    "    return ce"
   ]
  },
  {
   "attachments": {},
   "cell_type": "markdown",
   "metadata": {},
   "source": [
    "Define backpropagation"
   ]
  },
  {
   "cell_type": "code",
   "execution_count": 126,
   "metadata": {},
   "outputs": [],
   "source": [
    "def dReLU(z):\n",
    "    return z>0\n",
    "\n",
    "def backword_prop(training_data, l1,l2,l3,y):\n",
    "    dZ3=l3.a-y\n",
    "    dZ2=np.dot(l3.weights, l3.a-y) * dReLU(l2.z)\n",
    "    dZ1=np.dot(l2.weights, dZ2) * dReLU(l1.z)\n",
    "    dW3 = np.outer(l2.a, dZ3)\n",
    "    dW2 = np.outer(l1.a, dZ2)\n",
    "    dW1 = np.outer(training_data[1:], dZ1)\n",
    "    dB1 = dZ1\n",
    "    dB2=dZ2\n",
    "    dB3= dZ3\n",
    "\n",
    "    return dW1, dW2, dW3, dB1, dB2, dB3\n"
   ]
  },
  {
   "cell_type": "markdown",
   "metadata": {},
   "source": [
    "Save and load model"
   ]
  },
  {
   "cell_type": "code",
   "execution_count": 127,
   "metadata": {},
   "outputs": [],
   "source": [
    "def save_model():\n",
    "    np.savez(\"trained_parameters.npz\", l1_weights=l1.weights, l1_biases=l1.biases,\n",
    "         l2_weights=l2.weights, l2_biases=l2.biases,\n",
    "         l3_weights=l3.weights, l3_biases=l3.biases)"
   ]
  },
  {
   "cell_type": "code",
   "execution_count": 128,
   "metadata": {},
   "outputs": [],
   "source": [
    "def load_model():\n",
    "    npzfile = np.load(\"trained_parameters.npz\")\n",
    "    l1.weights=npzfile[\"l1_weights\"]\n",
    "    l1.biases=npzfile[\"l1_biases\"]\n",
    "    l2.weights=npzfile[\"l2_weights\"]\n",
    "    l2.biases=npzfile[\"l2_biases\"]\n",
    "    l3.weights=npzfile[\"l3_weights\"]\n",
    "    l3.biases=npzfile[\"l3_biases\"]"
   ]
  },
  {
   "attachments": {},
   "cell_type": "markdown",
   "metadata": {},
   "source": [
    "Training"
   ]
  },
  {
   "cell_type": "code",
   "execution_count": 129,
   "metadata": {},
   "outputs": [
    {
     "name": "stdout",
     "output_type": "stream",
     "text": [
      "Epoch: 0, Min Loss: inf\n",
      "Epoch: 1, Min Loss: 14.777260109874872\n",
      "Epoch: 2, Min Loss: 14.718259947673001\n",
      "Epoch: 4, Min Loss: 14.710172633271549\n",
      "Epoch: 6, Min Loss: 14.709166293537574\n",
      "Epoch: 9, Min Loss: 14.693582538792525\n",
      "Epoch: 12, Min Loss: 14.688234398097643\n",
      "Epoch: 18, Min Loss: 14.671447100384405\n",
      "Epoch: 49, Min Loss: 14.657377932580076\n",
      "Epoch: 51, Min Loss: 14.6550434218001\n",
      "Epoch: 102, Min Loss: 14.595608542228307\n",
      "Epoch: 142, Min Loss: 14.589379463428658\n",
      "Epoch: 144, Min Loss: 14.587317446227647\n",
      "Epoch: 154, Min Loss: 14.571635282708773\n",
      "Epoch: 182, Min Loss: 14.53842071113753\n",
      "Epoch: 218, Min Loss: 14.500125987622825\n",
      "Epoch: 225, Min Loss: 14.496028495775349\n",
      "Epoch: 258, Min Loss: 14.454245322793923\n",
      "Epoch: 287, Min Loss: 14.424639281034732\n",
      "Epoch: 310, Min Loss: 14.354228319060883\n",
      "Epoch: 329, Min Loss: 14.346813858714167\n",
      "Epoch: 336, Min Loss: 14.337091725402432\n",
      "Epoch: 361, Min Loss: 14.27863488515498\n",
      "Epoch: 377, Min Loss: 14.259436541395567\n",
      "Epoch: 388, Min Loss: 14.252673914037372\n",
      "Epoch: 397, Min Loss: 14.195965383015876\n",
      "Epoch: 406, Min Loss: 14.155799190049688\n",
      "Epoch: 416, Min Loss: 14.131557988794295\n",
      "Epoch: 419, Min Loss: 14.11975857876722\n",
      "Epoch: 447, Min Loss: 14.053405559796792\n",
      "Epoch: 462, Min Loss: 13.969026082909616\n",
      "Epoch: 474, Min Loss: 13.965649976732738\n",
      "Epoch: 486, Min Loss: 13.958093102891345\n",
      "Epoch: 488, Min Loss: 13.953444868613277\n",
      "Epoch: 489, Min Loss: 13.938871267534095\n",
      "Epoch: 497, Min Loss: 13.793636044094168\n",
      "Epoch: 504, Min Loss: 13.750821774596275\n",
      "Epoch: 536, Min Loss: 13.73047162262237\n",
      "Epoch: 546, Min Loss: 13.692102903297279\n",
      "Epoch: 550, Min Loss: 13.646894943777228\n",
      "Epoch: 577, Min Loss: 13.603476899586166\n",
      "Epoch: 583, Min Loss: 13.543491466920598\n",
      "Epoch: 638, Min Loss: 13.166530497531141\n",
      "Epoch: 659, Min Loss: 13.03536324254132\n",
      "Epoch: 671, Min Loss: 13.011707368883872\n",
      "Epoch: 682, Min Loss: 12.994880636938507\n",
      "Epoch: 686, Min Loss: 12.664718545806116\n",
      "Epoch: 711, Min Loss: 12.663856987120223\n",
      "Epoch: 717, Min Loss: 12.636340634573793\n",
      "Epoch: 724, Min Loss: 12.58322669465479\n",
      "Epoch: 726, Min Loss: 12.27638576739978\n",
      "Epoch: 747, Min Loss: 12.219807620637805\n",
      "Epoch: 764, Min Loss: 12.120453034173938\n",
      "Epoch: 768, Min Loss: 12.06659178706974\n",
      "Epoch: 769, Min Loss: 12.004423310524716\n",
      "Epoch: 789, Min Loss: 11.933269213173993\n",
      "Epoch: 791, Min Loss: 11.785301917292811\n",
      "Epoch: 810, Min Loss: 11.287792513418308\n",
      "Epoch: 837, Min Loss: 11.26496412793048\n",
      "Epoch: 848, Min Loss: 11.217101652875325\n",
      "Epoch: 882, Min Loss: 10.997022810105705\n",
      "Epoch: 891, Min Loss: 10.717982806332065\n",
      "Epoch: 895, Min Loss: 10.218128633874285\n",
      "Epoch: 937, Min Loss: 10.154733700129512\n",
      "Epoch: 1356, Min Loss: 4.986128656058608\n",
      "Epoch: 1480, Min Loss: 3.62839562598945\n",
      "Epoch: 1521, Min Loss: 3.6077706589091423\n",
      "Epoch: 1528, Min Loss: 3.400181983340205\n",
      "Epoch: 1607, Min Loss: 3.332030655255336\n",
      "Epoch: 1667, Min Loss: 3.2384228757926783\n",
      "Epoch: 1828, Min Loss: 2.7363023841236385\n",
      "Epoch: 1873, Min Loss: 2.689100679247086\n",
      "Epoch: 1883, Min Loss: 2.667265998836955\n",
      "Epoch: 2039, Min Loss: 2.3344468776125775\n",
      "Epoch: 2077, Min Loss: 2.1165768319765235\n",
      "Epoch: 2379, Min Loss: 1.966319936025916\n",
      "Epoch: 2418, Min Loss: 1.9138841795717199\n",
      "Epoch: 2621, Min Loss: 1.8394390758911188\n",
      "Epoch: 2672, Min Loss: 1.7719036136654012\n",
      "Epoch: 2812, Min Loss: 1.5948494774748252\n",
      "Epoch: 3952, Min Loss: 1.4230709140020132\n",
      "Epoch: 4123, Min Loss: 1.3846204293947317\n",
      "Epoch: 4314, Min Loss: 1.2905381992603553\n",
      "Epoch: 4687, Min Loss: 0.904577153005068\n",
      "Epoch: 6562, Min Loss: 0.8236606536045424\n",
      "Epoch: 8437, Min Loss: 0.53199198174342\n",
      "Epoch: 9684, Min Loss: 0.5302712881146094\n"
     ]
    }
   ],
   "source": [
    "learning_rate=0.0003\n",
    "epochs = 16384\n",
    "batch_size = 64\n",
    "min_loss = np.inf\n",
    "np.random.shuffle(dataset_train)\n",
    "\n",
    "for epoch in range(epochs):\n",
    "    gradient = {\"dW1\": np.zeros(l1.weights.shape), \n",
    "                \"dB1\": np.zeros(l1.biases.shape),\n",
    "                \"dW2\": np.zeros(l2.weights.shape), \n",
    "                \"dB2\": np.zeros(l2.biases.shape), \n",
    "                \"dW3\": np.zeros(l3.weights.shape), \n",
    "                \"dB3\": np.zeros(l3.biases.shape)}\n",
    "    loss=0\n",
    "    batch_start = epoch*batch_size % dataset_train.shape[0]\n",
    "    try:\n",
    "        batch = dataset_train[batch_start:batch_start+batch_size]\n",
    "    except IndexError:\n",
    "        batch = dataset_train[batch_start:]\n",
    "    np.random.shuffle(batch)\n",
    "    for training_data in batch:\n",
    "        l1,l2,l3=forward_prop(training_data)\n",
    "        y=one_hot(training_data)\n",
    "        dW1, dW2, dW3, dB1, dB2, dB3=backword_prop(training_data, l1,l2,l3,y)\n",
    "\n",
    "        gradient[\"dW1\"]=np.add(gradient[\"dW1\"],dW1)\n",
    "        gradient[\"dW2\"]=np.add(gradient[\"dW2\"],dW2)\n",
    "        gradient[\"dW3\"]=np.add(gradient[\"dW3\"],dW3)\n",
    "\n",
    "        gradient[\"dB1\"]=np.add(gradient[\"dB1\"],dB1)\n",
    "        gradient[\"dB2\"]=np.add(gradient[\"dB2\"],dB2)\n",
    "        gradient[\"dB3\"]=np.add(gradient[\"dB3\"],dB3)\n",
    "\n",
    "        loss+=ce_loss(training_data, l3.a)\n",
    "\n",
    "    for array in gradient.values():\n",
    "        array/=batch_size\n",
    "    \n",
    "    if loss<min_loss:\n",
    "        print(f\"Epoch: {epoch}, Min Loss: {min_loss}\")\n",
    "        min_loss=loss\n",
    "        save_model()\n",
    "\n",
    "    l1.weights -= learning_rate * gradient[\"dW1\"]\n",
    "    l1.biases -= learning_rate * gradient[\"dB1\"]\n",
    "    l2.weights -= learning_rate * gradient[\"dW2\"]\n",
    "    l2.biases -= learning_rate * gradient[\"dB2\"]\n",
    "    l3.weights -= learning_rate * gradient[\"dW3\"]\n",
    "    l3.biases -= learning_rate * gradient[\"dB3\"]"
   ]
  },
  {
   "attachments": {},
   "cell_type": "markdown",
   "metadata": {},
   "source": [
    "Run custom tests:"
   ]
  },
  {
   "cell_type": "code",
   "execution_count": 135,
   "metadata": {},
   "outputs": [
    {
     "data": {
      "image/png": "[encoded data removed]",
      "text/plain": [
       "<Figure size 1000x1000 with 25 Axes>"
      ]
     },
     "metadata": {},
     "output_type": "display_data"
    }
   ],
   "source": [
    "load_model()\n",
    "fig, axes = plt.subplots(nrows=5, ncols=5, figsize=(10, 10))\n",
    "\n",
    "for i, ax in enumerate(axes.flat):\n",
    "    index = np.random.randint(0, dataset_test.shape[0])\n",
    "    image = dataset_test[index][1:].reshape(28, 28)\n",
    "    ax.imshow(image, cmap=\"gray\")\n",
    "    ax.axis('off')\n",
    "    l1, l2, l3 = forward_prop(dataset_test[index])\n",
    "    prediction = np.argmax(l3.a)\n",
    "    ax.set_title(f\"Prediction: {prediction}\")\n",
    "\n",
    "plt.tight_layout()\n",
    "\n",
    "plt.show()\n"
   ]
  },
  {
   "attachments": {},
   "cell_type": "markdown",
   "metadata": {},
   "source": [
    "Determine success rate"
   ]
  },
  {
   "cell_type": "code",
   "execution_count": 139,
   "metadata": {},
   "outputs": [
    {
     "name": "stdout",
     "output_type": "stream",
     "text": [
      "Accuracy: 90.41%\n"
     ]
    }
   ],
   "source": [
    "sucesses=0\n",
    "for test_data in dataset_test:\n",
    "    l1,l2,l3 = forward_prop(test_data)\n",
    "    if np.argmax(l3.a)==test_data[0]:\n",
    "        sucesses+=1\n",
    "print(f\"Accuracy: {sucesses/dataset_test.shape[0]*100}%\")"
   ]
  }
 ],
 "metadata": {
  "kernelspec": {
   "display_name": "Python 3",
   "language": "python",
   "name": "python3"
  },
  "language_info": {
   "codemirror_mode": {
    "name": "ipython",
    "version": 3
   },
   "file_extension": ".py",
   "mimetype": "text/x-python",
   "name": "python",
   "nbconvert_exporter": "python",
   "pygments_lexer": "ipython3",
   "version": "3.10.12"
  },
  "orig_nbformat": 4
 },
 "nbformat": 4,
 "nbformat_minor": 2
}
