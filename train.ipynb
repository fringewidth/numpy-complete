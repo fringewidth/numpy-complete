{
 "cells": [
  {
   "attachments": {},
   "cell_type": "markdown",
   "metadata": {},
   "source": [
    "# Neural Network Specifics:\n",
    "- We're defining a feed-forawrd NN with four layers (input layer, two hidden layers, and output layer).\n",
    "- Input layer is each of the 784 grayscale values\n",
    "- The hidden layers will have sixteen neurons each.\n",
    "- Activation functions of hidden layer neurons will be the ReLU\n",
    "- There will be 10 output layer neurons, representing the computed probability of the digit the input image represents.\n",
    "- Activation functions of the output layer will be softmax\n",
    "- We'll use cross entropy as the loss function"
   ]
  },
  {
   "attachments": {},
   "cell_type": "markdown",
   "metadata": {},
   "source": [
    "Import packages"
   ]
  },
  {
   "cell_type": "code",
   "execution_count": 129,
   "metadata": {},
   "outputs": [],
   "source": [
    "import numpy as np\n",
    "import pandas as pd\n",
    "import matplotlib.pyplot as plt"
   ]
  },
  {
   "attachments": {},
   "cell_type": "markdown",
   "metadata": {},
   "source": [
    "Load Dataset"
   ]
  },
  {
   "cell_type": "code",
   "execution_count": 130,
   "metadata": {},
   "outputs": [],
   "source": [
    "dataset_train = pd.read_csv(\"mnist_train.csv\").to_numpy()"
   ]
  },
  {
   "attachments": {},
   "cell_type": "markdown",
   "metadata": {},
   "source": [
    "Initialise weight matrices and bias vectors using random normal distrubution"
   ]
  },
  {
   "cell_type": "code",
   "execution_count": 149,
   "metadata": {},
   "outputs": [],
   "source": [
    "class Layer:\n",
    "    z=0\n",
    "    a=0\n",
    "    def __init__(self, dimensions):\n",
    "        self.weights=np.random.normal(loc=0,scale=0.01,size=dimensions)\n",
    "        self.biases=np.random.normal(loc=0, scale=0.01, size=dimensions[1])\n",
    "\n",
    "#Layer 1\n",
    "l1=Layer((784,16))\n",
    "\n",
    "#Layer 2\n",
    "l2=Layer((16,16))\n",
    "\n",
    "#Layer 3\n",
    "l3=Layer((16,10))"
   ]
  },
  {
   "attachments": {},
   "cell_type": "markdown",
   "metadata": {},
   "source": [
    "Define Activation functions"
   ]
  },
  {
   "cell_type": "code",
   "execution_count": 150,
   "metadata": {},
   "outputs": [],
   "source": [
    "def ReLU(x):\n",
    "    return np.maximum(x,0)\n",
    "\n",
    "def softmax(x):\n",
    "    m=np.max(x)\n",
    "    return np.exp(x-m)/np.exp(x-m).sum()"
   ]
  },
  {
   "attachments": {},
   "cell_type": "markdown",
   "metadata": {},
   "source": [
    "Implement Forward Propagation"
   ]
  },
  {
   "cell_type": "code",
   "execution_count": 151,
   "metadata": {},
   "outputs": [],
   "source": [
    "def forward_prop(training_data):\n",
    "    l1.z=np.dot(training_data[1:],l1.weights)+l1.biases\n",
    "    l1.a=ReLU(l1.z)\n",
    "\n",
    "    l2.z=np.dot(l1.z, l2.weights)+l2.biases\n",
    "    l2.a=ReLU(l2.z)\n",
    "\n",
    "    l3.z=np.dot(l2.z, l3.weights)+l3.biases\n",
    "    l3.a=softmax(l3.z)\n",
    "    return l1, l2, l3"
   ]
  },
  {
   "attachments": {},
   "cell_type": "markdown",
   "metadata": {},
   "source": [
    "One-hot encoding"
   ]
  },
  {
   "cell_type": "code",
   "execution_count": 152,
   "metadata": {},
   "outputs": [],
   "source": [
    "def one_hot(training_data):\n",
    "    y=np.zeros(10)\n",
    "    index=training_data[0]\n",
    "    y[index]=1\n",
    "    return y"
   ]
  },
  {
   "attachments": {},
   "cell_type": "markdown",
   "metadata": {},
   "source": [
    "Implement cross-entropy loss\n"
   ]
  },
  {
   "cell_type": "code",
   "execution_count": 153,
   "metadata": {},
   "outputs": [],
   "source": [
    "def ce_loss(training_data, predictions):\n",
    "    epsilon = 1e-10\n",
    "    predictions = np.clip(predictions, epsilon, 1 - epsilon)\n",
    "    y=one_hot(training_data)\n",
    "    ce= -np.mean(np.log(predictions)*y)\n",
    "    return ce"
   ]
  },
  {
   "attachments": {},
   "cell_type": "markdown",
   "metadata": {},
   "source": [
    "Define backpropagation"
   ]
  },
  {
   "cell_type": "code",
   "execution_count": 154,
   "metadata": {},
   "outputs": [],
   "source": [
    "def dReLU(z):\n",
    "    return z>0\n",
    "\n",
    "def backword_prop(training_data, l1,l2,l3,y):\n",
    "    dZ3=l3.a-y\n",
    "    dZ2=np.dot(l3.weights, l3.a-y) * dReLU(l2.z)\n",
    "    dZ1=np.dot(l2.weights, dZ2) * dReLU(l1.z)\n",
    "    dW3 = np.outer(l2.a, dZ3)\n",
    "    dW2 = np.outer(l1.a, dZ2)\n",
    "    dW1 = np.outer(training_data[1:], dZ1)\n",
    "    dB1 = dZ1\n",
    "    dB2=dZ2\n",
    "    dB3= dZ3\n",
    "\n",
    "    return dW1, dW2, dW3, dB1, dB2, dB3\n"
   ]
  },
  {
   "attachments": {},
   "cell_type": "markdown",
   "metadata": {},
   "source": [
    "Training"
   ]
  },
  {
   "cell_type": "code",
   "execution_count": 155,
   "metadata": {},
   "outputs": [
    {
     "name": "stdout",
     "output_type": "stream",
     "text": [
      "Epoch: 0, Loss: 13804\n",
      "Epoch: 1, Loss: 13794\n",
      "Epoch: 2, Loss: 13784\n",
      "Epoch: 3, Loss: 13774\n",
      "Epoch: 4, Loss: 13763\n",
      "Epoch: 5, Loss: 13753\n",
      "Epoch: 6, Loss: 13742\n",
      "Epoch: 7, Loss: 13731\n",
      "Epoch: 8, Loss: 13719\n",
      "Epoch: 9, Loss: 13706\n",
      "Epoch: 10, Loss: 13692\n",
      "Epoch: 11, Loss: 13678\n",
      "Epoch: 12, Loss: 13662\n",
      "Epoch: 13, Loss: 13644\n",
      "Epoch: 14, Loss: 13624\n",
      "Epoch: 15, Loss: 13602\n",
      "Epoch: 16, Loss: 13577\n",
      "Epoch: 17, Loss: 13549\n",
      "Epoch: 18, Loss: 13517\n",
      "Epoch: 19, Loss: 13479\n",
      "Epoch: 20, Loss: 13436\n",
      "Epoch: 21, Loss: 13386\n",
      "Epoch: 22, Loss: 13327\n",
      "Epoch: 23, Loss: 13257\n",
      "Epoch: 24, Loss: 13176\n",
      "Epoch: 25, Loss: 13082\n",
      "Epoch: 26, Loss: 12972\n",
      "Epoch: 27, Loss: 12846\n",
      "Epoch: 28, Loss: 12703\n",
      "Epoch: 29, Loss: 12543\n",
      "Epoch: 30, Loss: 12365\n",
      "Epoch: 31, Loss: 12169\n",
      "Epoch: 32, Loss: 11956\n",
      "Epoch: 33, Loss: 11725\n",
      "Epoch: 34, Loss: 11475\n",
      "Epoch: 35, Loss: 11204\n",
      "Epoch: 36, Loss: 10911\n",
      "Epoch: 37, Loss: 10593\n",
      "Epoch: 38, Loss: 10253\n",
      "Epoch: 39, Loss: 9892\n",
      "Epoch: 40, Loss: 9518\n",
      "Epoch: 41, Loss: 9134\n",
      "Epoch: 42, Loss: 8757\n",
      "Epoch: 43, Loss: 8380\n",
      "Epoch: 44, Loss: 8195\n",
      "Epoch: 45, Loss: 9566\n",
      "Epoch: 46, Loss: 25846\n",
      "Epoch: 47, Loss: 22970\n",
      "Epoch: 48, Loss: 20405\n",
      "Epoch: 49, Loss: 13100\n",
      "Epoch: 50, Loss: 11810\n",
      "Epoch: 51, Loss: 10113\n",
      "Epoch: 52, Loss: 9829\n",
      "Epoch: 53, Loss: 9185\n",
      "Epoch: 54, Loss: 9020\n",
      "Epoch: 55, Loss: 8652\n",
      "Epoch: 56, Loss: 8551\n",
      "Epoch: 57, Loss: 8266\n",
      "Epoch: 58, Loss: 8229\n",
      "Epoch: 59, Loss: 7978\n",
      "Epoch: 60, Loss: 8083\n",
      "Epoch: 61, Loss: 8033\n",
      "Epoch: 62, Loss: 7977\n",
      "Epoch: 63, Loss: 8055\n",
      "Epoch: 64, Loss: 7511\n",
      "Epoch: 65, Loss: 7307\n",
      "Epoch: 66, Loss: 7291\n",
      "Epoch: 67, Loss: 7449\n",
      "Epoch: 68, Loss: 6832\n",
      "Epoch: 69, Loss: 6685\n",
      "Epoch: 70, Loss: 6577\n",
      "Epoch: 71, Loss: 6843\n",
      "Epoch: 72, Loss: 6427\n",
      "Epoch: 73, Loss: 6492\n",
      "Epoch: 74, Loss: 6264\n",
      "Epoch: 75, Loss: 6223\n",
      "Epoch: 76, Loss: 6045\n",
      "Epoch: 77, Loss: 5884\n",
      "Epoch: 78, Loss: 5744\n",
      "Epoch: 79, Loss: 5531\n",
      "Epoch: 80, Loss: 5439\n",
      "Epoch: 81, Loss: 5273\n",
      "Epoch: 82, Loss: 5203\n",
      "Epoch: 83, Loss: 5106\n",
      "Epoch: 84, Loss: 5038\n",
      "Epoch: 85, Loss: 5010\n",
      "Epoch: 86, Loss: 4898\n",
      "Epoch: 87, Loss: 4922\n",
      "Epoch: 88, Loss: 4754\n",
      "Epoch: 89, Loss: 4795\n",
      "Epoch: 90, Loss: 4602\n",
      "Epoch: 91, Loss: 4635\n",
      "Epoch: 92, Loss: 4452\n",
      "Epoch: 93, Loss: 4472\n",
      "Epoch: 94, Loss: 4310\n",
      "Epoch: 95, Loss: 4314\n",
      "Epoch: 96, Loss: 4172\n",
      "Epoch: 97, Loss: 4159\n",
      "Epoch: 98, Loss: 4042\n",
      "Epoch: 99, Loss: 4015\n",
      "Epoch: 100, Loss: 3921\n",
      "Epoch: 101, Loss: 3889\n",
      "Epoch: 102, Loss: 3814\n",
      "Epoch: 103, Loss: 3781\n",
      "Epoch: 104, Loss: 3725\n",
      "Epoch: 105, Loss: 3695\n",
      "Epoch: 106, Loss: 3653\n",
      "Epoch: 107, Loss: 3629\n",
      "Epoch: 108, Loss: 3601\n",
      "Epoch: 109, Loss: 3581\n",
      "Epoch: 110, Loss: 3570\n",
      "Epoch: 111, Loss: 3537\n",
      "Epoch: 112, Loss: 3542\n",
      "Epoch: 113, Loss: 3468\n",
      "Epoch: 114, Loss: 3469\n",
      "Epoch: 115, Loss: 3369\n",
      "Epoch: 116, Loss: 3356\n",
      "Epoch: 117, Loss: 3269\n",
      "Epoch: 118, Loss: 3250\n",
      "Epoch: 119, Loss: 3186\n",
      "Epoch: 120, Loss: 3167\n",
      "Epoch: 121, Loss: 3119\n",
      "Epoch: 122, Loss: 3107\n",
      "Epoch: 123, Loss: 3068\n",
      "Epoch: 124, Loss: 3069\n",
      "Epoch: 125, Loss: 3035\n",
      "Epoch: 126, Loss: 3061\n",
      "Epoch: 127, Loss: 3028\n",
      "Epoch: 128, Loss: 3097\n",
      "Epoch: 129, Loss: 3065\n",
      "Epoch: 130, Loss: 3171\n",
      "Epoch: 131, Loss: 3122\n",
      "Epoch: 132, Loss: 3173\n",
      "Epoch: 133, Loss: 3084\n",
      "Epoch: 134, Loss: 3043\n",
      "Epoch: 135, Loss: 2955\n",
      "Epoch: 136, Loss: 2905\n",
      "Epoch: 137, Loss: 2852\n",
      "Epoch: 138, Loss: 2819\n",
      "Epoch: 139, Loss: 2792\n",
      "Epoch: 140, Loss: 2769\n",
      "Epoch: 141, Loss: 2754\n",
      "Epoch: 142, Loss: 2737\n",
      "Epoch: 143, Loss: 2728\n",
      "Epoch: 144, Loss: 2714\n",
      "Epoch: 145, Loss: 2707\n",
      "Epoch: 146, Loss: 2696\n",
      "Epoch: 147, Loss: 2691\n",
      "Epoch: 148, Loss: 2680\n",
      "Epoch: 149, Loss: 2676\n",
      "Epoch: 150, Loss: 2668\n",
      "Epoch: 151, Loss: 2664\n",
      "Epoch: 152, Loss: 2658\n",
      "Epoch: 153, Loss: 2656\n",
      "Epoch: 154, Loss: 2653\n",
      "Epoch: 155, Loss: 2650\n",
      "Epoch: 156, Loss: 2651\n",
      "Epoch: 157, Loss: 2649\n",
      "Epoch: 158, Loss: 2656\n",
      "Epoch: 159, Loss: 2652\n",
      "Epoch: 160, Loss: 2668\n",
      "Epoch: 161, Loss: 2661\n",
      "Epoch: 162, Loss: 2689\n",
      "Epoch: 163, Loss: 2674\n",
      "Epoch: 164, Loss: 2717\n",
      "Epoch: 165, Loss: 2688\n",
      "Epoch: 166, Loss: 2742\n",
      "Epoch: 167, Loss: 2696\n",
      "Epoch: 168, Loss: 2751\n",
      "Epoch: 169, Loss: 2693\n",
      "Epoch: 170, Loss: 2739\n",
      "Epoch: 171, Loss: 2679\n",
      "Epoch: 172, Loss: 2712\n",
      "Epoch: 173, Loss: 2658\n",
      "Epoch: 174, Loss: 2681\n",
      "Epoch: 175, Loss: 2637\n",
      "Epoch: 176, Loss: 2652\n",
      "Epoch: 177, Loss: 2617\n",
      "Epoch: 178, Loss: 2628\n",
      "Epoch: 179, Loss: 2601\n",
      "Epoch: 180, Loss: 2611\n",
      "Epoch: 181, Loss: 2588\n",
      "Epoch: 182, Loss: 2600\n",
      "Epoch: 183, Loss: 2581\n",
      "Epoch: 184, Loss: 2596\n",
      "Epoch: 185, Loss: 2578\n",
      "Epoch: 186, Loss: 2600\n",
      "Epoch: 187, Loss: 2582\n",
      "Epoch: 188, Loss: 2615\n",
      "Epoch: 189, Loss: 2594\n"
     ]
    }
   ],
   "source": [
    "learning_rate=0.01\n",
    "epochs=190\n",
    "for epoch in range(epochs):\n",
    "    np.random.shuffle(dataset_train)\n",
    "    gradient = {\"dW1\": np.zeros(l1.weights.shape), \n",
    "                \"dB1\": np.zeros(l1.biases.shape),\n",
    "                \"dW2\": np.zeros(l2.weights.shape), \n",
    "                \"dB2\": np.zeros(l2.biases.shape), \n",
    "                \"dW3\": np.zeros(l3.weights.shape), \n",
    "                \"dB3\": np.zeros(l3.biases.shape)}\n",
    "    loss=0\n",
    "    for training_data in dataset_train:\n",
    "        l1,l2,l3=forward_prop(training_data)\n",
    "        y=one_hot(training_data)\n",
    "        dW1, dW2, dW3, dB1, dB2, dB3=backword_prop(training_data, l1,l2,l3,y)\n",
    "        gradient[\"dW1\"]=np.add(gradient[\"dW1\"],dW1)\n",
    "        gradient[\"dW2\"]=np.add(gradient[\"dW2\"],dW2)\n",
    "        gradient[\"dW3\"]=np.add(gradient[\"dW3\"],dW3)\n",
    "\n",
    "        gradient[\"dB1\"]=np.add(gradient[\"dB1\"],dB1)\n",
    "        gradient[\"dB2\"]=np.add(gradient[\"dB2\"],dB2)\n",
    "        gradient[\"dB3\"]=np.add(gradient[\"dB3\"],dB3)\n",
    "        loss+=ce_loss(training_data, l3.a)\n",
    "\n",
    "    for array in gradient.values():\n",
    "        array/=dataset_train.shape[0]\n",
    "    loss\n",
    "    l1.weights -= learning_rate * gradient[\"dW1\"]\n",
    "    l1.biases -= learning_rate * gradient[\"dB1\"]\n",
    "    l2.weights -= learning_rate * gradient[\"dW2\"]\n",
    "    l2.biases -= learning_rate * gradient[\"dB2\"]\n",
    "    l3.weights -= learning_rate * gradient[\"dW3\"]\n",
    "    l3.biases -= learning_rate * gradient[\"dB3\"]\n",
    "    \n",
    "    print(\"Epoch: %d, Loss: %d\"%(epoch, loss))\n"
   ]
  },
  {
   "attachments": {},
   "cell_type": "markdown",
   "metadata": {},
   "source": [
    "Run custom tests:"
   ]
  },
  {
   "cell_type": "code",
   "execution_count": 159,
   "metadata": {},
   "outputs": [
    {
     "name": "stdout",
     "output_type": "stream",
     "text": [
      "input:\n"
     ]
    },
    {
     "data": {
      "image/png": "[encoded data removed]",
      "text/plain": [
       "<Figure size 640x480 with 1 Axes>"
      ]
     },
     "metadata": {},
     "output_type": "display_data"
    },
    {
     "name": "stdout",
     "output_type": "stream",
     "text": [
      "Predicted value:  4\n"
     ]
    }
   ],
   "source": [
    "index=24\n",
    "dataset_test = pd.read_csv(\"mnist_test.csv\").to_numpy()\n",
    "plt.imshow(dataset_test[index][1:].reshape(28,28),cmap=\"gray\")\n",
    "l1,l2,l3 = forward_prop(dataset_test[index])\n",
    "print(\"input:\")\n",
    "plt.axis('off')\n",
    "plt.show()\n",
    "print(\"Predicted value: \",np.argmax(l3.a))\n",
    "\n"
   ]
  },
  {
   "attachments": {},
   "cell_type": "markdown",
   "metadata": {},
   "source": [
    "Determine sucess rate"
   ]
  },
  {
   "cell_type": "code",
   "execution_count": 162,
   "metadata": {},
   "outputs": [
    {
     "name": "stdout",
     "output_type": "stream",
     "text": [
      "87.63\n"
     ]
    }
   ],
   "source": [
    "sucesses=0\n",
    "for test_data in dataset_test:\n",
    "    l1,l2,l3 = forward_prop(test_data)\n",
    "    if np.argmax(l3.a)==test_data[0]:\n",
    "        sucesses+=1\n",
    "print(sucesses/dataset_test.shape[0]*100)"
   ]
  },
  {
   "cell_type": "code",
   "execution_count": 161,
   "metadata": {},
   "outputs": [],
   "source": [
    "np.savez(\"trained_parameters.npz\", l1_weights=l1.weights, l1_biases=l1.biases,\n",
    "         l2_weights=l2.weights, l2_biases=l2.biases,\n",
    "         l3_weights=l3.weights, l3_biases=l3.biases)"
   ]
  }
 ],
 "metadata": {
  "kernelspec": {
   "display_name": "Python 3",
   "language": "python",
   "name": "python3"
  },
  "language_info": {
   "codemirror_mode": {
    "name": "ipython",
    "version": 3
   },
   "file_extension": ".py",
   "mimetype": "text/x-python",
   "name": "python",
   "nbconvert_exporter": "python",
   "pygments_lexer": "ipython3",
   "version": "3.10.12"
  },
  "orig_nbformat": 4
 },
 "nbformat": 4,
 "nbformat_minor": 2
}
